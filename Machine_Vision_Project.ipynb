{
  "cells": [
    {
      "cell_type": "markdown",
      "metadata": {
        "id": "view-in-github",
        "colab_type": "text"
      },
      "source": [
        "<a href=\"https://colab.research.google.com/github/AndrejNasteski/MachineVision/blob/main/Machine_Vision_Project.ipynb\" target=\"_parent\"><img src=\"https://colab.research.google.com/assets/colab-badge.svg\" alt=\"Open In Colab\"/></a>"
      ]
    },
    {
      "cell_type": "code",
      "execution_count": 1,
      "metadata": {
        "id": "eV7BsQQPuG4d"
      },
      "outputs": [],
      "source": [
        "import tensorflow as tf\n",
        "from tensorflow.keras import models, layers\n",
        "from IPython.display import HTML\n",
        "from keras.layers import Input, Conv2D, Lambda, merge, Dense, Flatten,MaxPooling2D, Dropout\n",
        "from keras.models import Model, Sequential\n",
        "from keras.regularizers import l2\n",
        "from keras.optimizers import adam_v2\n",
        "from keras import backend as K\n",
        "from keras.losses import binary_crossentropy\n",
        "from keras.preprocessing.image import load_img\n",
        "from keras.preprocessing.image import img_to_array\n",
        "from keras.preprocessing.image import array_to_img\n",
        "import PIL\n",
        "import numpy.random as rng\n",
        "import numpy as np\n",
        "import os\n",
        "import cv2\n",
        "import pickle\n",
        "import matplotlib.pyplot as plt\n",
        "import seaborn as sns\n",
        "from sklearn.utils import shuffle\n",
        "import pandas as pd\n",
        "%matplotlib inline"
      ]
    },
    {
      "cell_type": "code",
      "execution_count": 2,
      "metadata": {
        "colab": {
          "base_uri": "https://localhost:8080/"
        },
        "id": "B3adwdRRT2oT",
        "outputId": "00228041-ac84-497d-a249-ae4b16afcd12"
      },
      "outputs": [
        {
          "output_type": "stream",
          "name": "stdout",
          "text": [
            "Mounted at /content/gdrive\n"
          ]
        }
      ],
      "source": [
        "from google.colab import drive\n",
        "\n",
        "drive.mount('/content/gdrive')"
      ]
    },
    {
      "cell_type": "code",
      "execution_count": 3,
      "metadata": {
        "colab": {
          "base_uri": "https://localhost:8080/"
        },
        "id": "wRCfKhOEUShF",
        "outputId": "0c0678b0-3e0a-47cd-99c7-3ff91cf15950"
      },
      "outputs": [
        {
          "output_type": "stream",
          "name": "stdout",
          "text": [
            "/content/gdrive\n",
            "/content/gdrive/MyDrive/Colab Notebooks\n",
            "/content/gdrive/MyDrive/Colab Notebooks/MV Project\n"
          ]
        }
      ],
      "source": [
        "%cd gdrive\n",
        "%cd MyDrive/Colab\\ Notebooks\n",
        "%cd MV Project\n"
      ]
    },
    {
      "cell_type": "code",
      "execution_count": 4,
      "metadata": {
        "id": "HL4GsGFJuN2L"
      },
      "outputs": [],
      "source": [
        "IMAGE_SHAPE = (256, 256, 3)\n",
        "EPOCHS=50\n",
        "BATCH_SIZE = 64\n",
        "MARGIN = 1\n",
        "OUTPUT_PATH = \"output\"\n",
        "MODEL_PATH = os.path.sep.join([OUTPUT_PATH, \"siamese_model_6\"])\n",
        "PLOT_PATH = os.path.sep.join([OUTPUT_PATH, \"plot.png\"])\n",
        "\n",
        "\n",
        "DATASET_BATCH_SIZE = 9\n",
        "PATH = '/content/grdive/My Drive/Notebooks/MV Project'"
      ]
    },
    {
      "cell_type": "code",
      "execution_count": 7,
      "metadata": {
        "id": "bAegQQqsJk0E"
      },
      "outputs": [],
      "source": [
        "def load_dataset(directory):\n",
        "  dataset = []\n",
        "  class_directories = os.listdir(directory)\n",
        "  i = 0\n",
        "  for class_path in class_directories:\n",
        "    image_list = os.listdir(directory + \"/\" + class_path)\n",
        "\n",
        "    for image_path in image_list:\n",
        "      img=cv2.imread(directory + \"/\" + class_path + \"/\" + image_path)\n",
        "      img=cv2.cvtColor(img,cv2.COLOR_BGR2RGB)\n",
        "      img_array = np.array(img)\n",
        "\n",
        "      dataset.append(np.array([img, i]))\n",
        "\n",
        "    i += 1\n",
        "  dataset = np.array(dataset)\n",
        "  np.random.shuffle(dataset)\n",
        "  return dataset"
      ]
    },
    {
      "cell_type": "markdown",
      "source": [
        "Loads the image dataset into an numpy array of size 150 images.\n",
        "Image shape is 256, 256, 3."
      ],
      "metadata": {
        "id": "fQIUiwC9d2_u"
      }
    },
    {
      "cell_type": "code",
      "execution_count": 8,
      "metadata": {
        "colab": {
          "base_uri": "https://localhost:8080/"
        },
        "id": "k8cvAUBaaJr2",
        "outputId": "1b996277-bb10-4d7c-e797-b4f28683ab9a"
      },
      "outputs": [
        {
          "output_type": "stream",
          "name": "stderr",
          "text": [
            "/usr/local/lib/python3.7/dist-packages/ipykernel_launcher.py:13: VisibleDeprecationWarning: Creating an ndarray from ragged nested sequences (which is a list-or-tuple of lists-or-tuples-or ndarrays with different lengths or shapes) is deprecated. If you meant to do this, you must specify 'dtype=object' when creating the ndarray\n",
            "  del sys.path[0]\n"
          ]
        }
      ],
      "source": [
        "directory = \"PlantVillagePotatoShort\"\n",
        "\n",
        "image_dataset = load_dataset(directory)\n",
        "\n",
        "train_dataset = image_dataset[:int(len(image_dataset) * 0.8)]\n",
        "test_dataset = image_dataset[int(len(image_dataset) * 0.8):]\n",
        "\n",
        "train_dataset = np.swapaxes(train_dataset, 0, 1)\n",
        "test_dataset = np.swapaxes(test_dataset, 0, 1)\n",
        "\n",
        "train_images = train_dataset[0]\n",
        "train_labels = train_dataset[1]\n",
        "\n",
        "test_images = test_dataset[0]\n",
        "test_labels = test_dataset[1]\n"
      ]
    },
    {
      "cell_type": "markdown",
      "source": [
        "Split the dataset into train and test images. Split ratio: train 80%, test 20%."
      ],
      "metadata": {
        "id": "h4p7LYR5kYW1"
      }
    },
    {
      "cell_type": "code",
      "execution_count": 9,
      "metadata": {
        "id": "_LyCRUuvXGnk"
      },
      "outputs": [],
      "source": [
        "# make pairs after splitting the dataset\n",
        "\n",
        "def make_pairs(images, labels):\n",
        "  pair_images = []\n",
        "  pair_labels = []\n",
        "\n",
        "  NUM_CLASSES = len(np.unique(labels))\n",
        "  idx = [np.where(labels == i)[0] for i in range(0, NUM_CLASSES)]\n",
        "  # list of indexes of all samples labeled as class 'i'\n",
        "  # the first element has indexes of samples with class 0\n",
        "\n",
        "  for idxA in range(len(images)):\n",
        "    current_image = images[idxA]\n",
        "    label = labels[idxA]\n",
        "\n",
        "    idxB = np.random.choice(idx[label]) \n",
        "    # pick a random image from the same class\n",
        "    pos_image = images[idxB]\n",
        "\n",
        "    pair_images.append([current_image, pos_image])\n",
        "    pair_labels.append([1])\n",
        "\n",
        "    neg_idx = np.where(labels != label)[0]\n",
        "    # grab the indexes of images from a different class\n",
        "    neg_image = images[np.random.choice(neg_idx)] # grab a random image\n",
        "\n",
        "    pair_images.append([current_image, neg_image])\n",
        "    pair_labels.append([0])\n",
        "\n",
        "  return np.array(pair_images), np.array(pair_labels)\n"
      ]
    },
    {
      "cell_type": "markdown",
      "source": [
        "Makes pairs of images for training and testing. Each image is paired with one image from the same class and one from a different class."
      ],
      "metadata": {
        "id": "VBhh5ySbknHl"
      }
    },
    {
      "cell_type": "code",
      "execution_count": 16,
      "metadata": {
        "id": "5AQeIXCRtEGE"
      },
      "outputs": [],
      "source": [
        "def euclidean_distance(vectors):\n",
        "  (features_A, features_B) = vectors\n",
        "  sum_squared = K.sum(K.square(features_A - features_B), axis=1, keepdims=True)\n",
        "  return K.sqrt(K.maximum(sum_squared, K.epsilon()))\n",
        "\n",
        "def plot_training(H, plot_path):\n",
        "  plt.style.use(\"ggplot\")\n",
        "  plt.figure()\n",
        "  plt.plot(H.history[\"loss\"], label=\"train_loss\")\n",
        "  plt.plot(H.history[\"val_loss\"], label=\"val_loss\")\n",
        "  plt.plot(H.history[\"accuracy\"], label=\"train_acc\")\n",
        "  plt.plot(H.history[\"val_accuracy\"], label=\"val_acc\")\n",
        "  plt.title(\"Training Loss and Accuracy\")\n",
        "  plt.xlabel(\"Epoch #\")\n",
        "  plt.ylabel(\"Loss/Accuracy\")\n",
        "  plt.legend(loc=\"lower left\")\n",
        "  plt.savefig(plot_path)"
      ]
    },
    {
      "cell_type": "code",
      "execution_count": 10,
      "metadata": {
        "id": "N33aGYG33UeB"
      },
      "outputs": [],
      "source": [
        "train_pair_images, train_pair_labels = make_pairs(train_images, train_labels)\n",
        "test_pair_images, test_pair_labels = make_pairs(test_images, test_labels)"
      ]
    },
    {
      "cell_type": "code",
      "execution_count": 18,
      "metadata": {
        "id": "ryxL3H8-OClQ"
      },
      "outputs": [],
      "source": [
        "feature_model = Sequential([\n",
        "    layers.Conv2D(64, 3, padding='same', activation='relu'),\n",
        "    layers.MaxPooling2D(),\n",
        "    layers.Conv2D(64, 3, padding='same', activation='relu'),\n",
        "    layers.MaxPooling2D(),\n",
        "    layers.Conv2D(32, 3, padding='same', activation='relu'),\n",
        "    layers.MaxPooling2D(),\n",
        "    layers.Conv2D(16, 3, padding='same', activation='relu'),\n",
        "    layers.MaxPooling2D(),\n",
        "    layers.Conv2D(8, 3, padding='same', activation='relu'),\n",
        "    Dropout(0.4),\n",
        "    layers.Flatten(),\n",
        "    layers.Dense(4, activation='relu')\n",
        "])"
      ]
    },
    {
      "cell_type": "code",
      "execution_count": 19,
      "metadata": {
        "id": "T7zh2xyWv15c",
        "colab": {
          "base_uri": "https://localhost:8080/"
        },
        "outputId": "295b1d98-ecf9-4c34-8f4d-7f940c07f27b"
      },
      "outputs": [
        {
          "output_type": "stream",
          "name": "stdout",
          "text": [
            "Model: \"model_1\"\n",
            "__________________________________________________________________________________________________\n",
            " Layer (type)                   Output Shape         Param #     Connected to                     \n",
            "==================================================================================================\n",
            " input_5 (InputLayer)           [(None, 256, 256, 3  0           []                               \n",
            "                                )]                                                                \n",
            "                                                                                                  \n",
            " input_6 (InputLayer)           [(None, 256, 256, 3  0           []                               \n",
            "                                )]                                                                \n",
            "                                                                                                  \n",
            " sequential_3 (Sequential)      (None, 4)            71164       ['input_5[0][0]',                \n",
            "                                                                  'input_6[0][0]']                \n",
            "                                                                                                  \n",
            " lambda_1 (Lambda)              (None, 1)            0           ['sequential_3[0][0]',           \n",
            "                                                                  'sequential_3[1][0]']           \n",
            "                                                                                                  \n",
            " batch_normalization_1 (BatchNo  (None, 1)           4           ['lambda_1[0][0]']               \n",
            " rmalization)                                                                                     \n",
            "                                                                                                  \n",
            " dense_5 (Dense)                (None, 1)            2           ['batch_normalization_1[0][0]']  \n",
            "                                                                                                  \n",
            "==================================================================================================\n",
            "Total params: 71,170\n",
            "Trainable params: 71,168\n",
            "Non-trainable params: 2\n",
            "__________________________________________________________________________________________________\n",
            "None\n"
          ]
        }
      ],
      "source": [
        "img_A = Input(shape=IMAGE_SHAPE)\n",
        "img_B = Input(shape=IMAGE_SHAPE)\n",
        "\n",
        "convnet = feature_model\n",
        "\n",
        "feat_A = convnet(img_A)\n",
        "feat_B = convnet(img_B)\n",
        "\n",
        "distance = Lambda(euclidean_distance)([feat_A, feat_B])\n",
        "normal_layer = tf.keras.layers.BatchNormalization()(distance)\n",
        "output_layer = Dense(1, activation=\"sigmoid\")(normal_layer)\n",
        "model = Model(inputs=[img_A, img_B], outputs=output_layer)\n",
        "\n",
        "print(model.summary())"
      ]
    },
    {
      "cell_type": "code",
      "execution_count": null,
      "metadata": {
        "colab": {
          "base_uri": "https://localhost:8080/",
          "height": 1000
        },
        "id": "uCPTb7UziopV",
        "outputId": "1dfd527d-5b52-438b-f87d-2bf5b5b6724c"
      },
      "outputs": [
        {
          "output_type": "stream",
          "name": "stdout",
          "text": [
            "[INFO] compiling model...\n",
            "[INFO] training model...\n",
            "Epoch 1/50\n",
            "4/4 - 101s - loss: 0.7548 - accuracy: 0.5375 - val_loss: 0.7000 - val_accuracy: 0.5000 - 101s/epoch - 25s/step\n",
            "Epoch 2/50\n",
            "4/4 - 91s - loss: 0.7843 - accuracy: 0.5042 - val_loss: 0.7007 - val_accuracy: 0.5000 - 91s/epoch - 23s/step\n",
            "Epoch 3/50\n",
            "4/4 - 89s - loss: 0.8029 - accuracy: 0.4750 - val_loss: 0.8275 - val_accuracy: 0.6333 - 89s/epoch - 22s/step\n",
            "Epoch 4/50\n",
            "4/4 - 89s - loss: 0.7849 - accuracy: 0.5000 - val_loss: 0.7487 - val_accuracy: 0.5667 - 89s/epoch - 22s/step\n",
            "Epoch 5/50\n",
            "4/4 - 90s - loss: 0.7628 - accuracy: 0.5292 - val_loss: 0.6836 - val_accuracy: 0.6500 - 90s/epoch - 23s/step\n",
            "Epoch 6/50\n",
            "4/4 - 89s - loss: 0.7836 - accuracy: 0.4958 - val_loss: 0.6623 - val_accuracy: 0.6833 - 89s/epoch - 22s/step\n",
            "Epoch 7/50\n",
            "4/4 - 89s - loss: 0.7188 - accuracy: 0.5333 - val_loss: 0.6757 - val_accuracy: 0.6500 - 89s/epoch - 22s/step\n",
            "Epoch 8/50\n",
            "4/4 - 92s - loss: 0.7728 - accuracy: 0.5208 - val_loss: 0.6575 - val_accuracy: 0.6000 - 92s/epoch - 23s/step\n",
            "Epoch 9/50\n",
            "4/4 - 88s - loss: 0.7824 - accuracy: 0.5208 - val_loss: 0.6508 - val_accuracy: 0.6333 - 88s/epoch - 22s/step\n",
            "Epoch 10/50\n",
            "4/4 - 88s - loss: 0.7897 - accuracy: 0.5042 - val_loss: 0.6517 - val_accuracy: 0.6333 - 88s/epoch - 22s/step\n",
            "Epoch 11/50\n",
            "4/4 - 92s - loss: 0.7449 - accuracy: 0.5500 - val_loss: 0.6503 - val_accuracy: 0.6167 - 92s/epoch - 23s/step\n",
            "Epoch 12/50\n",
            "4/4 - 89s - loss: 0.7095 - accuracy: 0.5583 - val_loss: 0.6422 - val_accuracy: 0.6000 - 89s/epoch - 22s/step\n",
            "Epoch 13/50\n",
            "4/4 - 89s - loss: 0.7957 - accuracy: 0.4792 - val_loss: 0.6307 - val_accuracy: 0.6333 - 89s/epoch - 22s/step\n",
            "Epoch 14/50\n",
            "4/4 - 93s - loss: 0.7366 - accuracy: 0.5583 - val_loss: 0.6208 - val_accuracy: 0.6667 - 93s/epoch - 23s/step\n",
            "Epoch 15/50\n",
            "4/4 - 90s - loss: 0.7306 - accuracy: 0.5000 - val_loss: 0.6180 - val_accuracy: 0.6500 - 90s/epoch - 22s/step\n",
            "Epoch 16/50\n",
            "4/4 - 89s - loss: 0.7027 - accuracy: 0.5750 - val_loss: 0.6114 - val_accuracy: 0.6500 - 89s/epoch - 22s/step\n",
            "Epoch 17/50\n",
            "4/4 - 88s - loss: 0.7634 - accuracy: 0.4875 - val_loss: 0.6086 - val_accuracy: 0.6667 - 88s/epoch - 22s/step\n",
            "Epoch 18/50\n",
            "4/4 - 89s - loss: 0.7641 - accuracy: 0.5042 - val_loss: 0.6116 - val_accuracy: 0.6500 - 89s/epoch - 22s/step\n",
            "Epoch 19/50\n",
            "4/4 - 89s - loss: 0.7577 - accuracy: 0.5125 - val_loss: 0.6117 - val_accuracy: 0.7000 - 89s/epoch - 22s/step\n",
            "Epoch 20/50\n",
            "4/4 - 88s - loss: 0.7625 - accuracy: 0.5125 - val_loss: 0.6241 - val_accuracy: 0.6333 - 88s/epoch - 22s/step\n",
            "Epoch 21/50\n",
            "4/4 - 95s - loss: 0.7511 - accuracy: 0.4958 - val_loss: 0.6214 - val_accuracy: 0.6500 - 95s/epoch - 24s/step\n",
            "Epoch 22/50\n",
            "4/4 - 89s - loss: 0.7311 - accuracy: 0.5250 - val_loss: 0.6151 - val_accuracy: 0.6833 - 89s/epoch - 22s/step\n",
            "Epoch 23/50\n",
            "4/4 - 89s - loss: 0.7658 - accuracy: 0.5083 - val_loss: 0.6043 - val_accuracy: 0.7000 - 89s/epoch - 22s/step\n",
            "Epoch 24/50\n",
            "4/4 - 89s - loss: 0.7920 - accuracy: 0.4625 - val_loss: 0.5847 - val_accuracy: 0.7000 - 89s/epoch - 22s/step\n",
            "Epoch 25/50\n",
            "4/4 - 90s - loss: 0.7685 - accuracy: 0.5208 - val_loss: 0.5718 - val_accuracy: 0.7000 - 90s/epoch - 23s/step\n",
            "Epoch 26/50\n",
            "4/4 - 89s - loss: 0.7556 - accuracy: 0.5167 - val_loss: 0.5676 - val_accuracy: 0.7333 - 89s/epoch - 22s/step\n",
            "Epoch 27/50\n",
            "4/4 - 90s - loss: 0.7137 - accuracy: 0.5458 - val_loss: 0.5722 - val_accuracy: 0.7167 - 90s/epoch - 22s/step\n",
            "Epoch 28/50\n",
            "4/4 - 95s - loss: 0.7077 - accuracy: 0.5583 - val_loss: 0.5768 - val_accuracy: 0.6833 - 95s/epoch - 24s/step\n",
            "Epoch 29/50\n",
            "4/4 - 91s - loss: 0.6888 - accuracy: 0.5833 - val_loss: 0.5770 - val_accuracy: 0.6667 - 91s/epoch - 23s/step\n",
            "Epoch 30/50\n",
            "4/4 - 89s - loss: 0.7105 - accuracy: 0.5917 - val_loss: 0.5650 - val_accuracy: 0.7000 - 89s/epoch - 22s/step\n",
            "Epoch 31/50\n",
            "4/4 - 90s - loss: 0.6596 - accuracy: 0.5833 - val_loss: 0.5645 - val_accuracy: 0.7667 - 90s/epoch - 22s/step\n",
            "Epoch 32/50\n",
            "4/4 - 89s - loss: 0.6598 - accuracy: 0.6167 - val_loss: 0.5591 - val_accuracy: 0.7333 - 89s/epoch - 22s/step\n",
            "Epoch 33/50\n",
            "4/4 - 90s - loss: 0.6331 - accuracy: 0.5917 - val_loss: 0.5578 - val_accuracy: 0.7667 - 90s/epoch - 22s/step\n",
            "Epoch 34/50\n",
            "4/4 - 90s - loss: 0.5944 - accuracy: 0.6917 - val_loss: 0.5818 - val_accuracy: 0.7000 - 90s/epoch - 22s/step\n",
            "Epoch 35/50\n",
            "4/4 - 95s - loss: 0.6135 - accuracy: 0.6875 - val_loss: 0.5432 - val_accuracy: 0.7667 - 95s/epoch - 24s/step\n",
            "Epoch 36/50\n",
            "4/4 - 88s - loss: 0.6033 - accuracy: 0.7042 - val_loss: 0.5500 - val_accuracy: 0.7833 - 88s/epoch - 22s/step\n",
            "Epoch 37/50\n",
            "4/4 - 88s - loss: 0.5630 - accuracy: 0.7375 - val_loss: 0.5744 - val_accuracy: 0.7167 - 88s/epoch - 22s/step\n",
            "Epoch 38/50\n",
            "4/4 - 88s - loss: 0.5533 - accuracy: 0.7667 - val_loss: 0.5083 - val_accuracy: 0.8333 - 88s/epoch - 22s/step\n",
            "Epoch 39/50\n",
            "4/4 - 88s - loss: 0.5283 - accuracy: 0.7833 - val_loss: 0.4887 - val_accuracy: 0.8667 - 88s/epoch - 22s/step\n",
            "Epoch 40/50\n",
            "4/4 - 91s - loss: 0.5216 - accuracy: 0.8000 - val_loss: 0.5053 - val_accuracy: 0.8000 - 91s/epoch - 23s/step\n",
            "Epoch 41/50\n",
            "4/4 - 94s - loss: 0.5212 - accuracy: 0.7958 - val_loss: 0.4909 - val_accuracy: 0.7667 - 94s/epoch - 24s/step\n",
            "Epoch 42/50\n",
            "4/4 - 91s - loss: 0.4853 - accuracy: 0.8708 - val_loss: 0.4596 - val_accuracy: 0.8833 - 91s/epoch - 23s/step\n",
            "Epoch 43/50\n",
            "4/4 - 89s - loss: 0.4829 - accuracy: 0.8500 - val_loss: 0.4613 - val_accuracy: 0.8833 - 89s/epoch - 22s/step\n",
            "Epoch 44/50\n",
            "4/4 - 89s - loss: 0.4896 - accuracy: 0.8250 - val_loss: 0.4669 - val_accuracy: 0.8500 - 89s/epoch - 22s/step\n",
            "Epoch 45/50\n",
            "4/4 - 90s - loss: 0.4768 - accuracy: 0.8583 - val_loss: 0.4457 - val_accuracy: 0.9000 - 90s/epoch - 23s/step\n",
            "Epoch 46/50\n",
            "4/4 - 89s - loss: 0.4724 - accuracy: 0.8792 - val_loss: 0.4524 - val_accuracy: 0.8667 - 89s/epoch - 22s/step\n",
            "Epoch 47/50\n",
            "4/4 - 89s - loss: 0.4744 - accuracy: 0.8625 - val_loss: 0.4619 - val_accuracy: 0.8333 - 89s/epoch - 22s/step\n",
            "Epoch 48/50\n",
            "4/4 - 95s - loss: 0.4646 - accuracy: 0.8875 - val_loss: 0.4406 - val_accuracy: 0.8667 - 95s/epoch - 24s/step\n",
            "Epoch 49/50\n",
            "4/4 - 89s - loss: 0.4588 - accuracy: 0.9042 - val_loss: 0.4629 - val_accuracy: 0.8333 - 89s/epoch - 22s/step\n",
            "Epoch 50/50\n",
            "4/4 - 89s - loss: 0.4529 - accuracy: 0.9125 - val_loss: 0.4534 - val_accuracy: 0.8833 - 89s/epoch - 22s/step\n",
            "[INFO] saving siamese model...\n",
            "INFO:tensorflow:Assets written to: output/siamese_model_5/assets\n",
            "[INFO] plotting training history...\n"
          ]
        },
        {
          "output_type": "display_data",
          "data": {
            "image/png": "[encoded data removed]",
            "text/plain": [
              "<Figure size 432x288 with 1 Axes>"
            ]
          },
          "metadata": {}
        }
      ],
      "source": [
        "print(\"[INFO] compiling model...\")\n",
        "model.compile(loss=\"binary_crossentropy\",optimizer=\"adam\",metrics=[\"accuracy\"])\n",
        "print(\"[INFO] training model...\")\n",
        "history = model.fit(\n",
        "\t[train_pair_images[:, 0], train_pair_images[:, 1]], train_pair_labels[:],\n",
        "\tvalidation_data=([test_pair_images[:, 0], test_pair_images[:, 1]], test_pair_labels[:]),\n",
        "\tbatch_size=BATCH_SIZE, \n",
        "\tepochs=EPOCHS,\n",
        "\tverbose = 2)\n",
        "print(\"[INFO] saving siamese model...\")\n",
        "model.save(MODEL_PATH)\n",
        "# plot the training history\n",
        "print(\"[INFO] plotting training history...\")\n",
        "plot_training(history, PLOT_PATH)"
      ]
    }
  ],
  "metadata": {
    "colab": {
      "collapsed_sections": [],
      "name": "Machine Vision Project.ipynb",
      "provenance": [],
      "authorship_tag": "ABX9TyNKGrpsK1WQ6gH6tgiUo25C",
      "include_colab_link": true
    },
    "kernelspec": {
      "display_name": "Python 3",
      "name": "python3"
    },
    "language_info": {
      "name": "python"
    }
  },
  "nbformat": 4,
  "nbformat_minor": 0
}